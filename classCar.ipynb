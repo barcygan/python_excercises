{
  "nbformat": 4,
  "nbformat_minor": 0,
  "metadata": {
    "colab": {
      "name": "classCar.ipynb",
      "provenance": [],
      "collapsed_sections": [],
      "authorship_tag": "ABX9TyO7dd6dfBqg5d4LwhEcOb48",
      "include_colab_link": true
    },
    "kernelspec": {
      "name": "python3",
      "display_name": "Python 3"
    }
  },
  "cells": [
    {
      "cell_type": "markdown",
      "metadata": {
        "id": "view-in-github",
        "colab_type": "text"
      },
      "source": [
        "<a href=\"https://colab.research.google.com/github/barcygan/python_excercises/blob/master/classCar.ipynb\" target=\"_parent\"><img src=\"https://colab.research.google.com/assets/colab-badge.svg\" alt=\"Open In Colab\"/></a>"
      ]
    },
    {
      "cell_type": "code",
      "metadata": {
        "id": "FxEuo2EHEyl-",
        "colab_type": "code",
        "colab": {}
      },
      "source": [
        "class Car():\n",
        "  def __init__(self, brand, model, year):\n",
        "    self.brand=brand\n",
        "    self.model=model\n",
        "    self.year=year\n",
        "    self.mileage_meter = 0\n",
        "    \n",
        "  def desctiption(self):\n",
        "\n",
        "    print(f'Marka : {self.brand}, model : {self.model}, rok produkcji : {self.year}, przebieg : {self.mileage_meter}')\n",
        "\n",
        "  def update_odometer(self,mileage):\n",
        "\n",
        "    if mileage<self.mileage_meter:\n",
        "      print('Nie można cofnąć licznika')\n",
        "    else:\n",
        "      self.mileage_meter = mileage\n",
        "\n",
        "  def increment(self, mileage):\n",
        "    if mileage >1:\n",
        "      self.mileage_meter = self.mileage_meter+ mileage\n",
        "    else:\n",
        "      print('Nie mozesz dodać ujemnego przyrostu kilometrażu')"
      ],
      "execution_count": 7,
      "outputs": []
    },
    {
      "cell_type": "code",
      "metadata": {
        "id": "-sBKQ6AuE4p9",
        "colab_type": "code",
        "colab": {
          "base_uri": "https://localhost:8080/",
          "height": 53
        },
        "outputId": "0b903293-3766-4b5c-d7da-29480baf90d7"
      },
      "source": [
        "car = Car('audi','a4','2018')\n",
        "print(car.desctiption())"
      ],
      "execution_count": 8,
      "outputs": [
        {
          "output_type": "stream",
          "text": [
            "Marka : audi, model : a4, rok produkcji : 2018, przebieg : 0\n",
            "None\n"
          ],
          "name": "stdout"
        }
      ]
    },
    {
      "cell_type": "code",
      "metadata": {
        "id": "ujU5Pvl8E-f_",
        "colab_type": "code",
        "colab": {
          "base_uri": "https://localhost:8080/",
          "height": 53
        },
        "outputId": "82ee9a88-00f0-4fbf-8961-32f6276ec848"
      },
      "source": [
        "car.update_odometer(11220)\n",
        "print(car.desctiption())"
      ],
      "execution_count": 9,
      "outputs": [
        {
          "output_type": "stream",
          "text": [
            "Marka : audi, model : a4, rok produkcji : 2018, przebieg : 11220\n",
            "None\n"
          ],
          "name": "stdout"
        }
      ]
    },
    {
      "cell_type": "code",
      "metadata": {
        "id": "KcxHvAwdFCGb",
        "colab_type": "code",
        "colab": {
          "base_uri": "https://localhost:8080/",
          "height": 71
        },
        "outputId": "0be6bc84-42db-415f-91be-91dfbc289daf"
      },
      "source": [
        "car.increment(-11220)\n",
        "\n",
        "print(car.desctiption())"
      ],
      "execution_count": 10,
      "outputs": [
        {
          "output_type": "stream",
          "text": [
            "Nie mozesz dodać ujemnego przyrostu kilometrażu\n",
            "Marka : audi, model : a4, rok produkcji : 2018, przebieg : 11220\n",
            "None\n"
          ],
          "name": "stdout"
        }
      ]
    }
  ]
}